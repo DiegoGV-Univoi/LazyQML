{
 "cells": [
  {
   "cell_type": "code",
   "execution_count": 2,
   "metadata": {},
   "outputs": [
    {
     "name": "stderr",
     "output_type": "stream",
     "text": [
      "ERROR:root:The parameter <ansatzs> should be a list of strings type.\n"
     ]
    },
    {
     "name": "stderr",
     "output_type": "stream",
     "text": [
      "ERROR:root:The parameter <features> should be a list of floats type.\n"
     ]
    },
    {
     "ename": "NameError",
     "evalue": "name 'exit' is not defined",
     "output_type": "error",
     "traceback": [
      "\u001b[0;31m---------------------------------------------------------------------------\u001b[0m",
      "\u001b[0;31mNameError\u001b[0m                                 Traceback (most recent call last)",
      "Cell \u001b[0;32mIn[2], line 10\u001b[0m\n\u001b[1;32m      6\u001b[0m y \u001b[38;5;241m=\u001b[39m data\u001b[38;5;241m.\u001b[39mtarget\n\u001b[1;32m      8\u001b[0m X_train, X_test, y_train, y_test \u001b[38;5;241m=\u001b[39m train_test_split(X, y,test_size\u001b[38;5;241m=\u001b[39m\u001b[38;5;241m.3\u001b[39m,random_state \u001b[38;5;241m=\u001b[39m\u001b[38;5;241m123\u001b[39m)  \n\u001b[0;32m---> 10\u001b[0m q \u001b[38;5;241m=\u001b[39m \u001b[43mQuantumClassifier\u001b[49m\u001b[43m(\u001b[49m\u001b[43mnqubits\u001b[49m\u001b[38;5;241;43m=\u001b[39;49m\u001b[38;5;241;43m2\u001b[39;49m\u001b[43m,\u001b[49m\u001b[43mclassifiers\u001b[49m\u001b[38;5;241;43m=\u001b[39;49m\u001b[43m[\u001b[49m\u001b[38;5;124;43m\"\u001b[39;49m\u001b[38;5;124;43mqnn_bag\u001b[39;49m\u001b[38;5;124;43m\"\u001b[39;49m\u001b[43m]\u001b[49m\u001b[43m)\u001b[49m\n\u001b[1;32m     12\u001b[0m scores, predicitons \u001b[38;5;241m=\u001b[39m q\u001b[38;5;241m.\u001b[39mfit(X_train, X_test, y_train, y_test)\n",
      "File \u001b[0;32m~/anaconda3/envs/test/lib/python3.9/site-packages/lazyqml/supervised.py:378\u001b[0m, in \u001b[0;36mQuantumClassifier.__init__\u001b[0;34m(self, nqubits, randomstate, predictions, ignoreWarnings, numPredictors, numLayers, customMetric, customImputerNum, customImputerCat, classifiers, ansatzs, embeddings, features, verbose, optimizer, learningRate, epochs, runs, maxSamples)\u001b[0m\n\u001b[1;32m    376\u001b[0m     \u001b[38;5;28;01mfor\u001b[39;00m i \u001b[38;5;129;01min\u001b[39;00m errormsg:\n\u001b[1;32m    377\u001b[0m         logging\u001b[38;5;241m.\u001b[39merror(i,exc_info\u001b[38;5;241m=\u001b[39m\u001b[38;5;28;01mFalse\u001b[39;00m)\n\u001b[0;32m--> 378\u001b[0m     \u001b[43mexit\u001b[49m()\n\u001b[1;32m    379\u001b[0m \u001b[38;5;28mprint\u001b[39m(tabulate([[\u001b[38;5;28mself\u001b[39m\u001b[38;5;241m.\u001b[39mlearningRate,\u001b[38;5;28mself\u001b[39m\u001b[38;5;241m.\u001b[39mepochs,\u001b[38;5;28mself\u001b[39m\u001b[38;5;241m.\u001b[39mruns,\u001b[38;5;28mself\u001b[39m\u001b[38;5;241m.\u001b[39mclassifiers,\u001b[38;5;28mself\u001b[39m\u001b[38;5;241m.\u001b[39membeddings,\u001b[38;5;28mself\u001b[39m\u001b[38;5;241m.\u001b[39mansatzs,\u001b[38;5;28mself\u001b[39m\u001b[38;5;241m.\u001b[39mfeatures,\u001b[38;5;28mself\u001b[39m\u001b[38;5;241m.\u001b[39mnqubits,\u001b[38;5;28mself\u001b[39m\u001b[38;5;241m.\u001b[39mnumLayers,\u001b[38;5;28mself\u001b[39m\u001b[38;5;241m.\u001b[39mnumPredictors]], headers\u001b[38;5;241m=\u001b[39m[\u001b[38;5;124m'\u001b[39m\u001b[38;5;124mLearning Rate\u001b[39m\u001b[38;5;124m'\u001b[39m, \u001b[38;5;124m'\u001b[39m\u001b[38;5;124mEpochs\u001b[39m\u001b[38;5;124m'\u001b[39m, \u001b[38;5;124m\"\u001b[39m\u001b[38;5;124m# Runs\u001b[39m\u001b[38;5;124m\"\u001b[39m,\u001b[38;5;124m\"\u001b[39m\u001b[38;5;124mClassifiers\u001b[39m\u001b[38;5;124m\"\u001b[39m,\u001b[38;5;124m\"\u001b[39m\u001b[38;5;124mEmbeddings\u001b[39m\u001b[38;5;124m\"\u001b[39m,\u001b[38;5;124m\"\u001b[39m\u001b[38;5;124mAnsatzs\u001b[39m\u001b[38;5;124m\"\u001b[39m,\u001b[38;5;124m\"\u001b[39m\u001b[38;5;124mFeatures\u001b[39m\u001b[38;5;124m\"\u001b[39m,\u001b[38;5;124m\"\u001b[39m\u001b[38;5;124mQubits\u001b[39m\u001b[38;5;124m\"\u001b[39m,\u001b[38;5;124m\"\u001b[39m\u001b[38;5;124mLayers\u001b[39m\u001b[38;5;124m\"\u001b[39m,\u001b[38;5;124m\"\u001b[39m\u001b[38;5;124mPredictors\u001b[39m\u001b[38;5;124m\"\u001b[39m], tablefmt\u001b[38;5;241m=\u001b[39m\u001b[38;5;124m'\u001b[39m\u001b[38;5;124morgtbl\u001b[39m\u001b[38;5;124m'\u001b[39m))\n",
      "\u001b[0;31mNameError\u001b[0m: name 'exit' is not defined"
     ]
    }
   ],
   "source": [
    "from sklearn.datasets import load_breast_cancer, load_iris\n",
    "from sklearn.model_selection import train_test_split\n",
    "from lazyqml.supervised import QuantumClassifier\n",
    "data = load_breast_cancer()\n",
    "X = data.data\n",
    "y = data.target\n",
    "\n",
    "X_train, X_test, y_train, y_test = train_test_split(X, y,test_size=.3,random_state =123)  \n",
    "\n",
    "q = QuantumClassifier(nqubits=2,classifiers=[\"qnn_bag\"])\n",
    "\n",
    "scores, predicitons = q.fit(X_train, X_test, y_train, y_test)\n",
    "\n"
   ]
  }
 ],
 "metadata": {
  "kernelspec": {
   "display_name": "lazy",
   "language": "python",
   "name": "python3"
  },
  "language_info": {
   "codemirror_mode": {
    "name": "ipython",
    "version": 3
   },
   "file_extension": ".py",
   "mimetype": "text/x-python",
   "name": "python",
   "nbconvert_exporter": "python",
   "pygments_lexer": "ipython3",
   "version": "3.9.19"
  },
  "orig_nbformat": 4
 },
 "nbformat": 4,
 "nbformat_minor": 2
}
