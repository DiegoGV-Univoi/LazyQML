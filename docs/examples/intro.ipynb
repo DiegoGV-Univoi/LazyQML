{
 "cells": [
  {
   "cell_type": "code",
   "execution_count": 23,
   "metadata": {},
   "outputs": [
    {
     "name": "stdout",
     "output_type": "stream",
     "text": [
      "<class 'sklearn.impute._knn.KNNImputer'>\n"
     ]
    },
    {
     "data": {
      "text/plain": [
       "True"
      ]
     },
     "execution_count": 23,
     "metadata": {},
     "output_type": "execute_result"
    }
   ],
   "source": [
    "from sklearn.datasets import load_breast_cancer, load_iris\n",
    "from sklearn.model_selection import train_test_split\n",
    "from lazyqml.supervised import QuantumClassifier\n",
    "from sklearn.impute import SimpleImputer, KNNImputer\n",
    "import sklearn\n",
    "data = load_breast_cancer()\n",
    "X = data.data\n",
    "y = data.target\n",
    "\n",
    "X_train, X_test, y_train, y_test = train_test_split(X, y,test_size=.3,random_state =123)  \n",
    "\n",
    "imp = KNNImputer()\n",
    "print(imp.__class__)\n",
    "isinstance(imp, sklearn.base.BaseEstimator)\n",
    "#q = QuantumClassifier(nqubits=2,customImputerCat=imp)\n",
    "\n",
    "#scores, predicitons = q.fit(X_train, X_test, y_train, y_test)\n",
    "\n",
    "#print(predicitons)\n"
   ]
  }
 ],
 "metadata": {
  "kernelspec": {
   "display_name": "lazy",
   "language": "python",
   "name": "python3"
  },
  "language_info": {
   "codemirror_mode": {
    "name": "ipython",
    "version": 3
   },
   "file_extension": ".py",
   "mimetype": "text/x-python",
   "name": "python",
   "nbconvert_exporter": "python",
   "pygments_lexer": "ipython3",
   "version": "3.9.19"
  },
  "orig_nbformat": 4
 },
 "nbformat": 4,
 "nbformat_minor": 2
}
