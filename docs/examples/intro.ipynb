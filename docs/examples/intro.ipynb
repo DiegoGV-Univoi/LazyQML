{
 "cells": [
  {
   "cell_type": "code",
   "execution_count": 1,
   "metadata": {},
   "outputs": [
    {
     "name": "stderr",
     "output_type": "stream",
     "text": [
      "WARNING:jax._src.xla_bridge:No GPU/TPU found, falling back to CPU. (Set TF_CPP_MIN_LOG_LEVEL=0 and rerun for more info.)\n"
     ]
    },
    {
     "name": "stdout",
     "output_type": "stream",
     "text": [
      "|   Learning Rate |   Epochs |   # Runs | Classifiers   | Embeddings   | Ansatzs   | Features        |   Qubits |   Layers |   Predictors |\n",
      "|-----------------+----------+----------+---------------+--------------+-----------+-----------------+----------+----------+--------------|\n",
      "|            0.01 |      100 |        1 | ['qnn_bag']   | ['all']      | ['all']   | [0.3, 0.5, 0.8] |        2 |        5 |           10 |\n",
      "| Model       | Embedding           | Ansatz             |   Accuracy |   Balanced Accuracy |   ROC AUC |   F1 Score |   Time taken |\n",
      "|:------------|:--------------------|:-------------------|-----------:|--------------------:|----------:|-----------:|-------------:|\n",
      "| qnn_bag_0.8 | amplitude_embedding | tree_tensor        |   0.602339 |            0.55247  |  0.55247  |   0.577626 |      2.24495 |\n",
      "| qnn_bag_0.8 | ry_embedding        | HPzRx              |   0.573099 |            0.545688 |  0.545688 |   0.568532 |      2.0294  |\n",
      "| qnn_bag_0.3 | ry_embedding        | HPzRx              |   0.573099 |            0.545688 |  0.545688 |   0.568532 |      1.82091 |\n",
      "| qnn_bag_0.5 | ry_embedding        | HPzRx              |   0.573099 |            0.545688 |  0.545688 |   0.568532 |      1.80947 |\n",
      "| qnn_bag_0.3 | rx_embedding        | HPzRx              |   0.567251 |            0.540834 |  0.540834 |   0.563389 |      2.04469 |\n",
      "| qnn_bag_0.8 | rz_embedding        | HPzRx              |   0.567251 |            0.540834 |  0.540834 |   0.563389 |      1.81121 |\n",
      "| qnn_bag_0.8 | rx_embedding        | HPzRx              |   0.567251 |            0.540834 |  0.540834 |   0.563389 |      1.87448 |\n",
      "| qnn_bag_0.5 | rx_embedding        | HPzRx              |   0.567251 |            0.540834 |  0.540834 |   0.563389 |      2.34154 |\n",
      "| qnn_bag_0.3 | rz_embedding        | HPzRx              |   0.567251 |            0.540834 |  0.540834 |   0.563389 |      1.81423 |\n",
      "| qnn_bag_0.5 | rz_embedding        | HPzRx              |   0.567251 |            0.540834 |  0.540834 |   0.563389 |      1.98473 |\n",
      "| qnn_bag_0.5 | ry_embedding        | tree_tensor        |   0.602339 |            0.539977 |  0.539977 |   0.560338 |      2.30393 |\n",
      "| qnn_bag_0.3 | ry_embedding        | tree_tensor        |   0.602339 |            0.539977 |  0.539977 |   0.560338 |      2.04773 |\n",
      "| qnn_bag_0.8 | rx_embedding        | hardware_efficient |   0.602339 |            0.539977 |  0.539977 |   0.560338 |      5.24636 |\n",
      "| qnn_bag_0.8 | ry_embedding        | tree_tensor        |   0.602339 |            0.539977 |  0.539977 |   0.560338 |      2.04369 |\n",
      "| qnn_bag_0.3 | ry_embedding        | two_local          |   0.602339 |            0.539977 |  0.539977 |   0.560338 |      1.72669 |\n",
      "| qnn_bag_0.5 | ry_embedding        | two_local          |   0.602339 |            0.539977 |  0.539977 |   0.560338 |      1.97033 |\n",
      "| qnn_bag_0.8 | ry_embedding        | two_local          |   0.602339 |            0.539977 |  0.539977 |   0.560338 |      1.72756 |\n",
      "| qnn_bag_0.3 | ry_embedding        | hardware_efficient |   0.602339 |            0.539977 |  0.539977 |   0.560338 |      5.26276 |\n",
      "| qnn_bag_0.8 | rz_embedding        | hardware_efficient |   0.602339 |            0.539977 |  0.539977 |   0.560338 |      5.29466 |\n",
      "| qnn_bag_0.5 | rz_embedding        | hardware_efficient |   0.602339 |            0.539977 |  0.539977 |   0.560338 |      5.24149 |\n",
      "| qnn_bag_0.3 | rz_embedding        | hardware_efficient |   0.602339 |            0.539977 |  0.539977 |   0.560338 |      5.25633 |\n",
      "| qnn_bag_0.5 | ry_embedding        | hardware_efficient |   0.602339 |            0.539977 |  0.539977 |   0.560338 |      5.39174 |\n",
      "| qnn_bag_0.8 | ry_embedding        | hardware_efficient |   0.602339 |            0.539977 |  0.539977 |   0.560338 |      5.34611 |\n",
      "| qnn_bag_0.5 | rx_embedding        | hardware_efficient |   0.602339 |            0.539977 |  0.539977 |   0.560338 |      5.21169 |\n",
      "| qnn_bag_0.3 | rx_embedding        | hardware_efficient |   0.602339 |            0.539977 |  0.539977 |   0.560338 |      5.43763 |\n",
      "| qnn_bag_0.8 | amplitude_embedding | two_local          |   0.590643 |            0.537764 |  0.537764 |   0.56207  |      1.87894 |\n",
      "| qnn_bag_0.8 | amplitude_embedding | HPzRx              |   0.619883 |            0.53705  |  0.53705  |   0.537413 |      1.84112 |\n",
      "| qnn_bag_0.8 | amplitude_embedding | hardware_efficient |   0.578947 |            0.518061 |  0.518061 |   0.538596 |      5.99879 |\n",
      "| qnn_bag_0.5 | rx_embedding        | two_local          |   0.573099 |            0.513207 |  0.513207 |   0.534185 |      1.90031 |\n",
      "| qnn_bag_0.3 | rx_embedding        | tree_tensor        |   0.573099 |            0.513207 |  0.513207 |   0.534185 |      2.29299 |\n",
      "| qnn_bag_0.5 | rx_embedding        | tree_tensor        |   0.573099 |            0.513207 |  0.513207 |   0.534185 |      2.13899 |\n",
      "| qnn_bag_0.3 | rx_embedding        | two_local          |   0.573099 |            0.513207 |  0.513207 |   0.534185 |      1.73466 |\n",
      "| qnn_bag_0.8 | rx_embedding        | tree_tensor        |   0.573099 |            0.513207 |  0.513207 |   0.534185 |      2.23538 |\n",
      "| qnn_bag_0.8 | rz_embedding        | tree_tensor        |   0.573099 |            0.513207 |  0.513207 |   0.534185 |      2.26354 |\n",
      "| qnn_bag_0.5 | rz_embedding        | tree_tensor        |   0.573099 |            0.513207 |  0.513207 |   0.534185 |      2.06802 |\n",
      "| qnn_bag_0.3 | rz_embedding        | tree_tensor        |   0.573099 |            0.513207 |  0.513207 |   0.534185 |      2.25877 |\n",
      "| qnn_bag_0.8 | rx_embedding        | two_local          |   0.573099 |            0.513207 |  0.513207 |   0.534185 |      1.75039 |\n",
      "| qnn_bag_0.8 | rz_embedding        | two_local          |   0.573099 |            0.510708 |  0.510708 |   0.53013  |      1.93761 |\n",
      "| qnn_bag_0.5 | rz_embedding        | two_local          |   0.573099 |            0.510708 |  0.510708 |   0.53013  |      1.73715 |\n",
      "| qnn_bag_0.3 | rz_embedding        | two_local          |   0.573099 |            0.510708 |  0.510708 |   0.53013  |      1.71601 |\n",
      "| qnn_bag_0.3 | ZZ_embedding        | tree_tensor        |   0.602339 |            0.5      |  0.5      |   0.452854 |      2.33993 |\n",
      "| qnn_bag_0.5 | ZZ_embedding        | tree_tensor        |   0.602339 |            0.5      |  0.5      |   0.452854 |      2.08609 |\n",
      "| qnn_bag_0.8 | ZZ_embedding        | tree_tensor        |   0.602339 |            0.5      |  0.5      |   0.452854 |      2.05578 |\n",
      "| qnn_bag_0.3 | ZZ_embedding        | two_local          |   0.602339 |            0.5      |  0.5      |   0.452854 |      1.99303 |\n",
      "| qnn_bag_0.5 | ZZ_embedding        | two_local          |   0.602339 |            0.5      |  0.5      |   0.452854 |      1.71724 |\n",
      "| qnn_bag_0.8 | ZZ_embedding        | two_local          |   0.602339 |            0.5      |  0.5      |   0.452854 |      1.8084  |\n",
      "| qnn_bag_0.3 | ZZ_embedding        | hardware_efficient |   0.602339 |            0.5      |  0.5      |   0.452854 |      5.68319 |\n",
      "| qnn_bag_0.5 | ZZ_embedding        | hardware_efficient |   0.602339 |            0.5      |  0.5      |   0.452854 |      5.3838  |\n",
      "| qnn_bag_0.3 | amplitude_embedding | HPzRx              |   0.602339 |            0.5      |  0.5      |   0.452854 |      2.86749 |\n",
      "| qnn_bag_0.5 | amplitude_embedding | HPzRx              |   0.602339 |            0.5      |  0.5      |   0.452854 |      1.99632 |\n",
      "| qnn_bag_0.5 | amplitude_embedding | hardware_efficient |   0.602339 |            0.5      |  0.5      |   0.452854 |      5.53895 |\n",
      "| qnn_bag_0.3 | amplitude_embedding | hardware_efficient |   0.602339 |            0.5      |  0.5      |   0.452854 |      5.84892 |\n",
      "| qnn_bag_0.5 | amplitude_embedding | two_local          |   0.602339 |            0.5      |  0.5      |   0.452854 |      1.76487 |\n",
      "| qnn_bag_0.3 | amplitude_embedding | two_local          |   0.602339 |            0.5      |  0.5      |   0.452854 |      1.90227 |\n",
      "| qnn_bag_0.5 | amplitude_embedding | tree_tensor        |   0.602339 |            0.5      |  0.5      |   0.452854 |      2.24216 |\n",
      "| qnn_bag_0.3 | amplitude_embedding | tree_tensor        |   0.602339 |            0.5      |  0.5      |   0.452854 |      2.3621  |\n",
      "| qnn_bag_0.8 | ZZ_embedding        | hardware_efficient |   0.602339 |            0.5      |  0.5      |   0.452854 |      5.59989 |\n",
      "| qnn_bag_0.5 | ZZ_embedding        | HPzRx              |   0.467836 |            0.478298 |  0.478298 |   0.471776 |      1.80632 |\n",
      "| qnn_bag_0.8 | ZZ_embedding        | HPzRx              |   0.467836 |            0.478298 |  0.478298 |   0.471776 |      1.79939 |\n",
      "| qnn_bag_0.3 | ZZ_embedding        | HPzRx              |   0.467836 |            0.478298 |  0.478298 |   0.471776 |      1.79017 |\n"
     ]
    }
   ],
   "source": [
    "from sklearn.datasets import load_breast_cancer, load_iris\n",
    "from sklearn.model_selection import train_test_split\n",
    "from lazyqml.supervised import QuantumClassifier\n",
    "data = load_breast_cancer()\n",
    "X = data.data\n",
    "y = data.target\n",
    "\n",
    "X_train, X_test, y_train, y_test = train_test_split(X, y,test_size=.3,random_state =123)  \n",
    "\n",
    "q = QuantumClassifier(nqubits=2,classifiers=[\"qnn_bag\"])\n",
    "\n",
    "scores, predicitons = q.fit(X_train, X_test, y_train, y_test)\n",
    "\n"
   ]
  }
 ],
 "metadata": {
  "kernelspec": {
   "display_name": "lazy",
   "language": "python",
   "name": "python3"
  },
  "language_info": {
   "codemirror_mode": {
    "name": "ipython",
    "version": 3
   },
   "file_extension": ".py",
   "mimetype": "text/x-python",
   "name": "python",
   "nbconvert_exporter": "python",
   "pygments_lexer": "ipython3",
   "version": "3.9.19"
  },
  "orig_nbformat": 4
 },
 "nbformat": 4,
 "nbformat_minor": 2
}
