{
 "cells": [
  {
   "cell_type": "code",
   "execution_count": 25,
   "metadata": {},
   "outputs": [
    {
     "data": {
      "text/html": [
       "\n",
       "<style>\n",
       "    .widget-label {\n",
       "        font-weight: bold;\n",
       "        font-size: 14px;\n",
       "    }\n",
       "    .slider {\n",
       "        width: 500px !important;\n",
       "    }\n",
       "    .widget-box {\n",
       "        background-color: #f9f9f9;\n",
       "        padding: 15px;\n",
       "        border-radius: 10px;\n",
       "        box-shadow: 2px 2px 10px rgba(0, 0, 0, 0.1);\n",
       "        margin-bottom: 15px;\n",
       "    }\n",
       "</style>\n"
      ],
      "text/plain": [
       "<IPython.core.display.HTML object>"
      ]
     },
     "metadata": {},
     "output_type": "display_data"
    }
   ],
   "source": [
    "# Import necessary libraries\n",
    "import ipywidgets as widgets\n",
    "from IPython.display import display, HTML\n",
    "# from LazyQML.lazyqml.lazyqml import QuantumClassifier\n",
    "import pandas as pd\n",
    "from sklearn.model_selection import train_test_split\n",
    "\n",
    "# Add custom CSS for better aesthetics\n",
    "display(HTML(\"\"\"\n",
    "<style>\n",
    "    .widget-label {\n",
    "        font-weight: bold;\n",
    "        font-size: 14px;\n",
    "    }\n",
    "    .slider {\n",
    "        width: 500px !important;\n",
    "    }\n",
    "    .widget-box {\n",
    "        background-color: #f9f9f9;\n",
    "        padding: 15px;\n",
    "        border-radius: 10px;\n",
    "        box-shadow: 2px 2px 10px rgba(0, 0, 0, 0.1);\n",
    "        margin-bottom: 15px;\n",
    "    }\n",
    "</style>\n",
    "\"\"\"))"
   ]
  },
  {
   "cell_type": "code",
   "execution_count": 37,
   "metadata": {},
   "outputs": [
    {
     "data": {
      "application/vnd.jupyter.widget-view+json": {
       "model_id": "9d443cdc2e5848d4a35993abce43e9f1",
       "version_major": 2,
       "version_minor": 0
      },
      "text/plain": [
       "VBox(children=(HTML(value='<h3>Quantum Classifier Configuration</h3>'), IntSlider(value=100, description='Epoc…"
      ]
     },
     "metadata": {},
     "output_type": "display_data"
    }
   ],
   "source": [
    "\n",
    "# Widgets for user input with enhanced styles and multi-selection\n",
    "epochs_widget = widgets.IntSlider(\n",
    "    min=1, max=1000, step=1, value=100, description=\"Epochs:\",\n",
    "    style={'description_width': '150px'}, layout=widgets.Layout(width='500px'))\n",
    "\n",
    "layers_widget = widgets.IntSlider(\n",
    "    min=1, max=100, step=1, value=5, description=\"Layers:\",\n",
    "    style={'description_width': '150px'}, layout=widgets.Layout(width='500px'))\n",
    "\n",
    "nqubits_widget = widgets.IntSlider(\n",
    "    min=1, max=20, step=1, value=8, description=\"Qubits:\",\n",
    "    style={'description_width': '150px'}, layout=widgets.Layout(width='500px'))\n",
    "\n",
    "randomstate_widget = widgets.IntText(\n",
    "    value=1234, description=\"Random State:\",\n",
    "    style={'description_width': '150px'}, layout=widgets.Layout(width='300px'))\n",
    "\n",
    "# Classifier multi-selection using a Dropdown with multiple selection enabled\n",
    "classifiers_options = ['qsvm', 'qnn', 'qnnbag']\n",
    "classifiers_widget = widgets.SelectMultiple(\n",
    "    options=classifiers_options, value=['qsvm'], description='Classifiers:',\n",
    "    style={'description_width': '150px'}, layout=widgets.Layout(width='500px'))\n",
    "\n",
    "# Ansatz multi-selection with Dropdown widget for intuitive multiple selection\n",
    "ansatzs_options = ['HPzRx', 'tree_tensor', 'two_local', 'hardware_efficient']\n",
    "ansatzs_widget = widgets.SelectMultiple(\n",
    "    options=ansatzs_options, value=['HPzRx'], description='Ansatzs:',\n",
    "    style={'description_width': '150px'}, layout=widgets.Layout(width='500px'))\n",
    "\n",
    "# Embeddings multi-selection using Dropdown\n",
    "embeddings_options = ['amplitude_embedding', 'ZZ_embedding', 'rx_embedding', 'rz_embedding', 'ry_embedding']\n",
    "embeddings_widget = widgets.SelectMultiple(\n",
    "    options=embeddings_options, value=['amplitude_embedding'], description='Embeddings:',\n",
    "    style={'description_width': '150px'}, layout=widgets.Layout(width='500px'))\n",
    "\n",
    "# Verbose switch\n",
    "verbose_widget = widgets.ToggleButton(\n",
    "    value=False, description=\"Verbose\", icon='check',\n",
    "    button_style='info', style={'description_width': '150px'}, layout=widgets.Layout(width='200px'))\n",
    "\n",
    "# Number of samples as a percentage (from 0.0 to 1.0)\n",
    "nsamples_widget = widgets.FloatSlider(\n",
    "    value=1.0, min=0.0, max=1.0, step=0.01, description=\"Samples (0.0 - 1.0):\",\n",
    "    style={'description_width': '150px'}, layout=widgets.Layout(width='500px'))\n",
    "\n",
    "\n",
    "# Number of estimators (for QNN Bagging)\n",
    "nestimators_widget = widgets.IntSlider(\n",
    "    min=1, max=50, step=1, value=10, description=\"Estimators:\",\n",
    "    style={'description_width': '150px'}, layout=widgets.Layout(width='500px'))\n",
    "\n",
    "# Function to display widgets in a nice box layout (stack widgets vertically)\n",
    "def display_widgets():\n",
    "    widget_box = widgets.VBox([\n",
    "        widgets.HTML(\"<h3>Quantum Classifier Configuration</h3>\"),\n",
    "        epochs_widget,\n",
    "        layers_widget,\n",
    "        nqubits_widget,\n",
    "        randomstate_widget,\n",
    "        classifiers_widget,\n",
    "        ansatzs_widget,\n",
    "        embeddings_widget,\n",
    "        widgets.HBox([verbose_widget, nsamples_widget]),\n",
    "        nestimators_widget\n",
    "    ], layout=widgets.Layout(border='solid 1px #cccccc', padding='20px', border_radius='10px'))\n",
    "    \n",
    "    display(widget_box)\n",
    "\n",
    "display_widgets()\n"
   ]
  },
  {
   "cell_type": "code",
   "execution_count": 34,
   "metadata": {},
   "outputs": [
    {
     "data": {
      "application/vnd.jupyter.widget-view+json": {
       "model_id": "351cfc745ead42b99ee15d62da55ef01",
       "version_major": 2,
       "version_minor": 0
      },
      "text/plain": [
       "FileUpload(value=(), accept='.csv', description='Upload')"
      ]
     },
     "metadata": {},
     "output_type": "display_data"
    }
   ],
   "source": [
    "# Sample DataFrame input (can be customized by the user)\n",
    "upload_button = widgets.FileUpload(accept=\".csv\", multiple=False)\n",
    "\n",
    "def load_dataframe(change):\n",
    "    if len(upload_button.value) > 0:\n",
    "        # Read the uploaded CSV file content\n",
    "        content = next(iter(upload_button.value.values()))['content']\n",
    "        data = pd.read_csv(pd.compat.BytesIO(content))\n",
    "        display(data.head())  # Show the first few rows of the dataframe\n",
    "        return data\n",
    "    else:\n",
    "        return None\n",
    "\n",
    "upload_button.observe(load_dataframe, names='value')\n",
    "display(upload_button)"
   ]
  },
  {
   "cell_type": "code",
   "execution_count": 38,
   "metadata": {},
   "outputs": [
    {
     "data": {
      "application/vnd.jupyter.widget-view+json": {
       "model_id": "eac712dfb4034482a0edee32d14473ea",
       "version_major": 2,
       "version_minor": 0
      },
      "text/plain": [
       "Button(button_style='success', description='Train Model', style=ButtonStyle())"
      ]
     },
     "metadata": {},
     "output_type": "display_data"
    },
    {
     "name": "stdout",
     "output_type": "stream",
     "text": [
      "Initializing QuantumClassifier with:\n",
      "Verbose: True\n",
      "Random State: 1234\n",
      "Number of Qubits: 20\n",
      "Number of Layers: 100\n",
      "Classifiers: ['qsvm', 'qnn', 'qnnbag']\n",
      "Embeddings: ['amplitude_embedding', 'ZZ_embedding', 'rx_embedding', 'rz_embedding', 'ry_embedding']\n",
      "Ansatzs: ['HPzRx', 'tree_tensor', 'two_local', 'hardware_efficient']\n",
      "Epochs: 1000\n",
      "Samples: 0.8\n",
      "Estimators: 10\n",
      "No data provided. Please upload a dataset.\n"
     ]
    }
   ],
   "source": [
    "# Create an output widget to capture the print statements\n",
    "output_display = widgets.Output()\n",
    "\n",
    "# Function to train the model and display outputs\n",
    "def train_model(data=None):\n",
    "    try:\n",
    "        print(f\"Initializing QuantumClassifier with:\\nVerbose: {verbose_widget.value}\\nRandom State: {randomstate_widget.value}\\nNumber of Qubits: {nqubits_widget.value}\\nNumber of Layers: {layers_widget.value}\\nClassifiers: {list(classifiers_widget.value)}\\nEmbeddings: {list(embeddings_widget.value)}\\nAnsatzs: {list(ansatzs_widget.value)}\\nEpochs: {epochs_widget.value}\\nSamples: {nsamples_widget.value}\\nEstimators: {nestimators_widget.value}\")\n",
    "        # Split the dataset into train and test\n",
    "        X = data.drop(columns=['target'])  # Assuming the target column is named 'target'\n",
    "        y = data['target']\n",
    "        X_train, X_test, y_train, y_test = train_test_split(X, y, test_size=0.5, random_state=randomstate_widget.value)\n",
    "\n",
    "        \n",
    "\n",
    "        # Initialize QuantumClassifier with selected parameters\n",
    "        clf = QuantumClassifier(\n",
    "            verbose=verbose_widget.value,\n",
    "            randomSate=randomstate_widget.value,\n",
    "            nqubits=nqubits_widget.value,\n",
    "            numLayers=layers_widget.value,\n",
    "            classifiers=list(classifiers_widget.value),\n",
    "            ansatzs=list(ansatzs_widget.value),\n",
    "            embeddings=list(embeddings_widget.value),\n",
    "            epochs=epochs_widget.value,\n",
    "            maxSamples=nsamples_widget.value,\n",
    "            numPredictors=nestimators_widget.value\n",
    "        )\n",
    "\n",
    "        # Call the fit method and print the models and results\n",
    "        models, predictions = clf.fit(X_train, X_test, y_train, y_test)\n",
    "        display(models)  # Display the resulting models\n",
    "    except:\n",
    "        print(\"No data provided. Please upload a dataset.\")\n",
    "\n",
    "\n",
    "\n",
    "# Train button to trigger the training process\n",
    "train_button = widgets.Button(description=\"Train Model\", button_style='success')\n",
    "\n",
    "def on_train_button_click(b):\n",
    "    # Assuming data is loaded using the 'upload_button' widget\n",
    "    data = load_dataframe(None)  # Call to load the dataframe\n",
    "    train_model(data)\n",
    "\n",
    "train_button.on_click(on_train_button_click)\n",
    "display(train_button)\n"
   ]
  }
 ],
 "metadata": {
  "kernelspec": {
   "display_name": "lazyqml",
   "language": "python",
   "name": "python3"
  },
  "language_info": {
   "codemirror_mode": {
    "name": "ipython",
    "version": 3
   },
   "file_extension": ".py",
   "mimetype": "text/x-python",
   "name": "python",
   "nbconvert_exporter": "python",
   "pygments_lexer": "ipython3",
   "version": "3.10.15"
  }
 },
 "nbformat": 4,
 "nbformat_minor": 2
}
